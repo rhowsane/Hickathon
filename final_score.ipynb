{
 "cells": [
  {
   "cell_type": "code",
   "execution_count": 2,
   "metadata": {},
   "outputs": [],
   "source": [
    "import pandas as pd\n",
    "from sklearn.metrics import f1_score, classification_report"
   ]
  },
  {
   "cell_type": "code",
   "execution_count": 3,
   "metadata": {},
   "outputs": [],
   "source": [
    "flaml = 'y_test_submission_flaml.csv'\n",
    "lightgbm = 'y_test_submission_Hi5.csv'"
   ]
  },
  {
   "cell_type": "code",
   "execution_count": 4,
   "metadata": {},
   "outputs": [],
   "source": [
    "def print_result(predfile):\n",
    "    prediction = pd.read_csv(predfile)\n",
    "    true = pd.read_csv('y_test_Hi5.csv')\n",
    "\n",
    "    df = pd.merge(true, prediction, how='inner', on='row_index', suffixes=('_true','_pred'))\n",
    "    df1 = df[df['leaderboard']=='final']\n",
    "\n",
    "    print(f1_score(df1.iloc[:,1], df1.iloc[:,3], average='weighted'))\n",
    "    print(classification_report(df1.iloc[:,1], df1.iloc[:,3]))\n"
   ]
  },
  {
   "cell_type": "code",
   "execution_count": 5,
   "metadata": {},
   "outputs": [
    {
     "name": "stdout",
     "output_type": "stream",
     "text": [
      "0.5391682943349221\n",
      "              precision    recall  f1-score   support\n",
      "\n",
      "     Average       0.32      0.39      0.35     47478\n",
      "        High       0.37      0.43      0.40     26787\n",
      "         Low       0.42      0.42      0.42     83806\n",
      "   Very High       0.57      0.57      0.57     13098\n",
      "    Very Low       0.74      0.67      0.70    133993\n",
      "\n",
      "    accuracy                           0.53    305162\n",
      "   macro avg       0.49      0.49      0.49    305162\n",
      "weighted avg       0.55      0.53      0.54    305162\n",
      "\n"
     ]
    }
   ],
   "source": [
    "print_result(flaml)"
   ]
  },
  {
   "cell_type": "code",
   "execution_count": 6,
   "metadata": {},
   "outputs": [
    {
     "name": "stdout",
     "output_type": "stream",
     "text": [
      "0.47231464511005755\n",
      "              precision    recall  f1-score   support\n",
      "\n",
      "     Average       0.31      0.25      0.28     47478\n",
      "        High       0.35      0.25      0.29     26787\n",
      "         Low       0.38      0.33      0.35     83806\n",
      "   Very High       0.48      0.35      0.41     13098\n",
      "    Very Low       0.60      0.73      0.66    133993\n",
      "\n",
      "    accuracy                           0.49    305162\n",
      "   macro avg       0.42      0.38      0.40    305162\n",
      "weighted avg       0.47      0.49      0.47    305162\n",
      "\n"
     ]
    }
   ],
   "source": [
    "print_result(lightgbm)"
   ]
  }
 ],
 "metadata": {
  "kernelspec": {
   "display_name": "hickathon",
   "language": "python",
   "name": "python3"
  },
  "language_info": {
   "codemirror_mode": {
    "name": "ipython",
    "version": 3
   },
   "file_extension": ".py",
   "mimetype": "text/x-python",
   "name": "python",
   "nbconvert_exporter": "python",
   "pygments_lexer": "ipython3",
   "version": "3.12.7"
  }
 },
 "nbformat": 4,
 "nbformat_minor": 2
}
